{
 "cells": [
  {
   "cell_type": "code",
   "execution_count": 1,
   "metadata": {},
   "outputs": [
    {
     "name": "stderr",
     "output_type": "stream",
     "text": [
      "Using TensorFlow backend.\n"
     ]
    }
   ],
   "source": [
    "import pandas as pd\n",
    "import numpy as np\n",
    "\n",
    "import matplotlib.pyplot as plt\n",
    "import seaborn as sns\n",
    "%matplotlib inline\n",
    "pd.set_option('display.max_colwidth',-1)\n",
    "\n",
    "from wordcloud import WordCloud\n",
    "\n",
    "from sklearn.model_selection import train_test_split\n",
    "from sklearn.feature_extraction.text import CountVectorizer\n",
    "from sklearn import metrics\n",
    "from sklearn.metrics import roc_auc_score, accuracy_score, confusion_matrix, classification_report\n",
    "from sklearn.pipeline import Pipeline\n",
    "\n",
    "from bs4 import BeautifulSoup  \n",
    "import re\n",
    "import nltk\n",
    "import string\n",
    "from nltk.corpus import stopwords \n",
    "from nltk.stem.porter import PorterStemmer\n",
    "from nltk.stem import SnowballStemmer, WordNetLemmatizer\n",
    "from nltk import sent_tokenize, word_tokenize, pos_tag\n",
    "\n",
    "import logging\n",
    "from gensim.models import word2vec\n",
    "from gensim.models import Word2Vec\n",
    "from gensim.models.keyedvectors import KeyedVectors\n",
    "\n",
    "from keras.preprocessing import sequence\n",
    "from keras.utils import np_utils\n",
    "from keras.models import Sequential\n",
    "from keras.layers.core import Dense, Dropout, Activation, Lambda\n",
    "from keras.layers.embeddings import Embedding\n",
    "from keras.layers.recurrent import LSTM\n",
    "from keras.preprocessing.text import Tokenizer\n",
    "from collections import defaultdict\n",
    "from keras import backend as K\n",
    "from keras.layers.embeddings import Embedding"
   ]
  },
  {
   "cell_type": "code",
   "execution_count": 2,
   "metadata": {},
   "outputs": [],
   "source": [
    "# Load csv file\n",
    "df = pd.read_csv('datasets/review_yelp.csv', encoding='iso-8859-1', index_col=0)"
   ]
  },
  {
   "cell_type": "code",
   "execution_count": 3,
   "metadata": {},
   "outputs": [
    {
     "data": {
      "text/html": [
       "<div>\n",
       "<style scoped>\n",
       "    .dataframe tbody tr th:only-of-type {\n",
       "        vertical-align: middle;\n",
       "    }\n",
       "\n",
       "    .dataframe tbody tr th {\n",
       "        vertical-align: top;\n",
       "    }\n",
       "\n",
       "    .dataframe thead th {\n",
       "        text-align: right;\n",
       "    }\n",
       "</style>\n",
       "<table border=\"1\" class=\"dataframe\">\n",
       "  <thead>\n",
       "    <tr style=\"text-align: right;\">\n",
       "      <th></th>\n",
       "      <th>text</th>\n",
       "      <th>sentiment</th>\n",
       "    </tr>\n",
       "  </thead>\n",
       "  <tbody>\n",
       "    <tr>\n",
       "      <th>1</th>\n",
       "      <td>I *adore* Travis at the Hard Rock's new Kelly Cardenas Salon!  I'm always a fan of a great blowout and no stranger to the chains that offer this service; however, Travis has taken the flawless blowout to a whole new level!  \\n\\nTravis's greets you with his perfectly green swoosh in his otherwise perfectly styled black hair and a Vegas-worthy rockstar outfit.  Next comes the most relaxing and incredible shampoo -- where you get a full head message that could cure even the very worst migraine in minutes --- and the scented shampoo room.  Travis has freakishly strong fingers (in a good way) and use the perfect amount of pressure.  That was superb!  Then starts the glorious blowout... where not one, not two, but THREE people were involved in doing the best round-brush action my hair has ever seen.  The team of stylists clearly gets along extremely well, as it's evident from the way they talk to and help one another that it's really genuine and not some corporate requirement.  It was so much fun to be there! \\n\\nNext Travis started with the flat iron.  The way he flipped his wrist to get volume all around without over-doing it and making me look like a Texas pagent girl was admirable.  It's also worth noting that he didn't fry my hair -- something that I've had happen before with less skilled stylists.  At the end of the blowout &amp; style my hair was perfectly bouncey and looked terrific.  The only thing better?  That this awesome blowout lasted for days! \\n\\nTravis, I will see you every single time I'm out in Vegas.  You make me feel beauuuutiful!</td>\n",
       "      <td>1</td>\n",
       "    </tr>\n",
       "    <tr>\n",
       "      <th>2</th>\n",
       "      <td>I have to say that this office really has it together, they are so organized and friendly!  Dr. J. Phillipp is a great dentist, very friendly and professional.  The dental assistants that helped in my procedure were amazing, Jewel and Bailey helped me to feel comfortable!  I don't have dental insurance, but they have this insurance through their office you can purchase for $80 something a year and this gave me 25% off all of my dental work, plus they helped me get signed up for care credit which I knew nothing about before this visit!  I highly recommend this office for the nice synergy the whole office has!</td>\n",
       "      <td>1</td>\n",
       "    </tr>\n",
       "    <tr>\n",
       "      <th>3</th>\n",
       "      <td>Went in for a lunch. Steak sandwich was delicious, and the Caesar salad had an absolutely delicious dressing, with a perfect amount of dressing, and distributed perfectly across each leaf. I know I'm going on about the salad ... But it was perfect.\\n\\nDrink prices were pretty good.\\n\\nThe Server, Dawn, was friendly and accommodating. Very happy with her.\\n\\nIn summation, a great pub experience. Would go again!</td>\n",
       "      <td>1</td>\n",
       "    </tr>\n",
       "    <tr>\n",
       "      <th>5</th>\n",
       "      <td>I'll be the first to admit that I was not excited about going to La Tavolta. Being a food snob, when a group of friends suggested we go for dinner I looked online at the menu and to me there was nothing special and it seemed overpriced.  Im also not big on ordering pasta when I go out. Alas, I was outnumbered. Thank goodness! I ordered the sea bass special. It was to die for. Cooked perfectly, seasoned perfectly, perfect portion. I can not say enough good things about this dish. When the server asked how it was he seemed very proud of the dish and said, \" doesn't she (the chef) do an incredible job?\" She does. \\n\\nMy hubby got the crab tortellini and also loved his. I heard \"mmmm this is so good\" from all around the table. Our waiter was super nice and even gave us free desserts because we were some of the last people in the restaurant. Service was very slow and the place was PACKED but we had our jugs of wine and a large group with good conversation so it didn't seem to bother anyone.\\n\\nSo-\\n\\nDo order the calamari and fried zucchini appetizers. Leave out the mussels. \\n\\nIf they have the sea bass special, I highly recommend it. The chicken parm and crab tortellini were also very good and very big. The chicken Romano was a bit bland. The house salads were teeny. \\n\\nDo make a reservation but still expect to wait for your food. Go with a large group of people and plan for it to be loud. Don't go with a date unless you're fighting and don't feel like hearing anything they have to say.  Ask to sit in the side room if it's available.</td>\n",
       "      <td>1</td>\n",
       "    </tr>\n",
       "    <tr>\n",
       "      <th>10</th>\n",
       "      <td>Like walking back in time, every Saturday morning my sister and I was in a bowling league and after we were done, we'd spend a few quarters playing the pin ball machines until our mother came to pick us up.\\n\\nMy sister was daring and play the machines hard, she was afraid of that \"tilt\" showing up and freezing the game.  I, on the other hand was a bit more gentler and wanted to make sure I got my quarter's worth.\\n\\nThis place has rows and rows of machines, some are really old and some are more of a mid 80's theme.  There is even a Ms pac man!  It was fun to spend an afternoon playing the machines and remembering all the fun of my early teen years.</td>\n",
       "      <td>1</td>\n",
       "    </tr>\n",
       "  </tbody>\n",
       "</table>\n",
       "</div>"
      ],
      "text/plain": [
       "                                                                                                                                                                                                                                                                                                                                                                                                                                                                                                                                                                                                                                                                                                                                                                                                                                                                                                                                                                                                                                                                                                                                                                                                                                                                                                                                                                                                                                                                                                                                                                                                                               text  \\\n",
       "1   I *adore* Travis at the Hard Rock's new Kelly Cardenas Salon!  I'm always a fan of a great blowout and no stranger to the chains that offer this service; however, Travis has taken the flawless blowout to a whole new level!  \\n\\nTravis's greets you with his perfectly green swoosh in his otherwise perfectly styled black hair and a Vegas-worthy rockstar outfit.  Next comes the most relaxing and incredible shampoo -- where you get a full head message that could cure even the very worst migraine in minutes --- and the scented shampoo room.  Travis has freakishly strong fingers (in a good way) and use the perfect amount of pressure.  That was superb!  Then starts the glorious blowout... where not one, not two, but THREE people were involved in doing the best round-brush action my hair has ever seen.  The team of stylists clearly gets along extremely well, as it's evident from the way they talk to and help one another that it's really genuine and not some corporate requirement.  It was so much fun to be there! \\n\\nNext Travis started with the flat iron.  The way he flipped his wrist to get volume all around without over-doing it and making me look like a Texas pagent girl was admirable.  It's also worth noting that he didn't fry my hair -- something that I've had happen before with less skilled stylists.  At the end of the blowout & style my hair was perfectly bouncey and looked terrific.  The only thing better?  That this awesome blowout lasted for days! \\n\\nTravis, I will see you every single time I'm out in Vegas.  You make me feel beauuuutiful!   \n",
       "2   I have to say that this office really has it together, they are so organized and friendly!  Dr. J. Phillipp is a great dentist, very friendly and professional.  The dental assistants that helped in my procedure were amazing, Jewel and Bailey helped me to feel comfortable!  I don't have dental insurance, but they have this insurance through their office you can purchase for $80 something a year and this gave me 25% off all of my dental work, plus they helped me get signed up for care credit which I knew nothing about before this visit!  I highly recommend this office for the nice synergy the whole office has!                                                                                                                                                                                                                                                                                                                                                                                                                                                                                                                                                                                                                                                                                                                                                                                                                                                                                                                                                                                           \n",
       "3   Went in for a lunch. Steak sandwich was delicious, and the Caesar salad had an absolutely delicious dressing, with a perfect amount of dressing, and distributed perfectly across each leaf. I know I'm going on about the salad ... But it was perfect.\\n\\nDrink prices were pretty good.\\n\\nThe Server, Dawn, was friendly and accommodating. Very happy with her.\\n\\nIn summation, a great pub experience. Would go again!                                                                                                                                                                                                                                                                                                                                                                                                                                                                                                                                                                                                                                                                                                                                                                                                                                                                                                                                                                                                                                                                                                                                                                                                     \n",
       "5   I'll be the first to admit that I was not excited about going to La Tavolta. Being a food snob, when a group of friends suggested we go for dinner I looked online at the menu and to me there was nothing special and it seemed overpriced.  Im also not big on ordering pasta when I go out. Alas, I was outnumbered. Thank goodness! I ordered the sea bass special. It was to die for. Cooked perfectly, seasoned perfectly, perfect portion. I can not say enough good things about this dish. When the server asked how it was he seemed very proud of the dish and said, \" doesn't she (the chef) do an incredible job?\" She does. \\n\\nMy hubby got the crab tortellini and also loved his. I heard \"mmmm this is so good\" from all around the table. Our waiter was super nice and even gave us free desserts because we were some of the last people in the restaurant. Service was very slow and the place was PACKED but we had our jugs of wine and a large group with good conversation so it didn't seem to bother anyone.\\n\\nSo-\\n\\nDo order the calamari and fried zucchini appetizers. Leave out the mussels. \\n\\nIf they have the sea bass special, I highly recommend it. The chicken parm and crab tortellini were also very good and very big. The chicken Romano was a bit bland. The house salads were teeny. \\n\\nDo make a reservation but still expect to wait for your food. Go with a large group of people and plan for it to be loud. Don't go with a date unless you're fighting and don't feel like hearing anything they have to say.  Ask to sit in the side room if it's available.             \n",
       "10  Like walking back in time, every Saturday morning my sister and I was in a bowling league and after we were done, we'd spend a few quarters playing the pin ball machines until our mother came to pick us up.\\n\\nMy sister was daring and play the machines hard, she was afraid of that \"tilt\" showing up and freezing the game.  I, on the other hand was a bit more gentler and wanted to make sure I got my quarter's worth.\\n\\nThis place has rows and rows of machines, some are really old and some are more of a mid 80's theme.  There is even a Ms pac man!  It was fun to spend an afternoon playing the machines and remembering all the fun of my early teen years.                                                                                                                                                                                                                                                                                                                                                                                                                                                                                                                                                                                                                                                                                                                                                                                                                                                                                                                                                 \n",
       "\n",
       "    sentiment  \n",
       "1   1          \n",
       "2   1          \n",
       "3   1          \n",
       "5   1          \n",
       "10  1          "
      ]
     },
     "execution_count": 3,
     "metadata": {},
     "output_type": "execute_result"
    }
   ],
   "source": [
    "df.head()"
   ]
  },
  {
   "cell_type": "markdown",
   "metadata": {},
   "source": [
    "## Data Exploration"
   ]
  },
  {
   "cell_type": "code",
   "execution_count": 4,
   "metadata": {},
   "outputs": [
    {
     "name": "stdout",
     "output_type": "stream",
     "text": [
      "Total number of reviews:  100000\n"
     ]
    }
   ],
   "source": [
    "print(\"Total number of reviews: \",len(df))"
   ]
  },
  {
   "cell_type": "code",
   "execution_count": null,
   "metadata": {},
   "outputs": [],
   "source": [
    "#Dividing the dataset into features and lables\n",
    "reviews = df['text']\n",
    "labels = df['sentiment']"
   ]
  },
  {
   "cell_type": "code",
   "execution_count": null,
   "metadata": {},
   "outputs": [],
   "source": [
    "print(\"Max length of reviews\")\n",
    "print(pd.Series({c: df[c].map(lambda x: len(str(x))).max() for c in df}).sort_values(ascending =False))"
   ]
  },
  {
   "cell_type": "code",
   "execution_count": null,
   "metadata": {},
   "outputs": [],
   "source": [
    "print(\"Average length of reviews\")\n",
    "df.fillna('').astype(str).apply(lambda x:x.str.len()).mean()"
   ]
  },
  {
   "cell_type": "code",
   "execution_count": null,
   "metadata": {},
   "outputs": [],
   "source": [
    "#check the distribution of lebels\n",
    "\n",
    "labels_count = labels.value_counts()\n",
    "labels_count.plot(kind=\"bar\")\n",
    "print(labels.value_counts())"
   ]
  },
  {
   "cell_type": "code",
   "execution_count": null,
   "metadata": {},
   "outputs": [],
   "source": [
    "import nltk\n",
    "from nltk.corpus import stopwords #To remove the stopwords\n",
    "nltk.download('stopwords')\n",
    "nltk.download('punkt')\n",
    "nltk.download('wordnet')\n",
    "cachedStopWords = stopwords.words('english')\n",
    "from nltk.stem import WordNetLemmatizer \n",
    "from wordcloud import WordCloud"
   ]
  },
  {
   "cell_type": "code",
   "execution_count": null,
   "metadata": {},
   "outputs": [],
   "source": [
    "def displayWordCloud(data,i):\n",
    "  tweets = \" \".join(data['text'][data['sentiment'] == i ])\n",
    "  tweets = ' '.join([word.lower() for word in nltk.word_tokenize(tweets)])\n",
    "  tweets = re.sub(r'[^a-zA-Z]',' ',tweets)#Remove numbers,puncutions\n",
    "  tweets = \" \".join(tweets.split())#to remove the spaces \n",
    "  tokens = nltk.word_tokenize(tweets)# Tokenize the Sentences\n",
    "  tokens = [WordNetLemmatizer().lemmatize(word) for word in tokens if word not in cachedStopWords and len(word) > 2]\n",
    "  return nltk.FreqDist(tokens)"
   ]
  },
  {
   "cell_type": "markdown",
   "metadata": {},
   "source": [
    "### Display wordcloud for negative sentences"
   ]
  },
  {
   "cell_type": "code",
   "execution_count": null,
   "metadata": {},
   "outputs": [],
   "source": [
    "text = displayWordCloud(df, 0)\n",
    "neg_wordcloud = WordCloud(width=500, height=300, random_state=21).generate_from_frequencies(text)\n",
    "plt.figure(figsize=(20,20))\n",
    "plt.axis('off')\n",
    "plt.imshow(neg_wordcloud, interpolation='bilinear')\n",
    "plt.show()"
   ]
  },
  {
   "cell_type": "markdown",
   "metadata": {},
   "source": [
    "### display wordcloud for positive sentences"
   ]
  },
  {
   "cell_type": "code",
   "execution_count": null,
   "metadata": {},
   "outputs": [],
   "source": [
    "text = displayWordCloud(df, 1)\n",
    "neg_wordcloud = WordCloud(width=500, height=300, random_state=21).generate_from_frequencies(text)\n",
    "plt.figure(figsize=(20,20))\n",
    "plt.axis('off')\n",
    "plt.imshow(neg_wordcloud, interpolation='bilinear')\n",
    "plt.show()"
   ]
  },
  {
   "cell_type": "markdown",
   "metadata": {},
   "source": [
    "## Train test split data"
   ]
  },
  {
   "cell_type": "code",
   "execution_count": 5,
   "metadata": {},
   "outputs": [
    {
     "name": "stdout",
     "output_type": "stream",
     "text": [
      "Load 80000 training examples and 20000 validation examples. \n",
      "\n",
      "Show a review in the training set : \n",
      " Today I went in for a massage bc I had slept wrong & my neck was killing me. I told this to Steve (my therapist) & that I go about every other week for massage. I reminded him many times during the massage about my neck, but tried not to be overly pushy. There were many times he did not follow my skeletal outline & with a lot of pressure just rolled over my scapula & other bones. When doing deep tissue I think it's rather important to stay on the tissue otherwise it can be a bit painful. I like a pretty intense massage & don't usually complain about it, but when it's done incorrectly it's frustrating. Towards the end I reminded him again about my neck. I tried & tried to explain & show him exactly where the spot is (& even how to massage it!), but he just acted like I was annoying him....with heavy sighs even! Seriously?! I came in bc my neck hurt & I had to leave with my neck still hurting! Unacceptable.\n",
      "(80000,) (80000, 2)\n",
      "(20000,) (20000, 2)\n"
     ]
    }
   ],
   "source": [
    "# Split data into training set and validation\n",
    "Y = pd.get_dummies(df['sentiment']).values\n",
    "X_train, X_test, y_train, y_test = train_test_split(df['text'],\n",
    "                                                    Y, \n",
    "                                                    test_size = 0.2, \n",
    "                                                    random_state = 0)\n",
    "\n",
    "print('Load %d training examples and %d validation examples. \\n' %(X_train.shape[0],X_test.shape[0]))\n",
    "print('Show a review in the training set : \\n', X_train.iloc[10])\n",
    "\n",
    "print(X_train.shape,y_train.shape)\n",
    "print(X_test.shape,y_test.shape)"
   ]
  },
  {
   "cell_type": "markdown",
   "metadata": {},
   "source": [
    "## Text Preprocessing"
   ]
  },
  {
   "cell_type": "code",
   "execution_count": 6,
   "metadata": {},
   "outputs": [],
   "source": [
    "def cleanText(raw_text, remove_stopwords=True, stemming=False, split_text=False, \\\n",
    "             ):\n",
    "    '''\n",
    "    Convert a raw review to a cleaned review\n",
    "    '''\n",
    "    text = BeautifulSoup(raw_text, 'lxml').get_text()  #remove html\n",
    "    text = text.translate(string.punctuation) #remove punctuation\n",
    "    letters_only = re.sub(\"[^a-zA-Z]\", \" \", text)  # remove non-character\n",
    "    words = letters_only.lower().split() # convert to lower case \n",
    "    \n",
    "    words = \" \".join(words)\n",
    "\n",
    "    # Clean the text\n",
    "    words = re.sub(r\"[^A-Za-z0-9^,!.\\/'+-=]\", \" \", words)\n",
    "    words = re.sub(r\"what's\", \"what is \", words)\n",
    "    words = re.sub(r\"\\'s\", \" \", words)\n",
    "    words = re.sub(r\"\\'ve\", \" have \", words)\n",
    "    words = re.sub(r\"n't\", \" not \", words)\n",
    "    words = re.sub(r\"i'm\", \"i am \", words)\n",
    "    words = re.sub(r\"\\'re\", \" are \", words)\n",
    "    words = re.sub(r\"\\'d\", \" would \", words)\n",
    "    words = re.sub(r\"\\'ll\", \" will \", words)\n",
    "    words = re.sub(r\",\", \" \", words)\n",
    "    words = re.sub(r\"\\.\", \" \", words)\n",
    "    words = re.sub(r\"!\", \" ! \", words)\n",
    "    words = re.sub(r\"\\/\", \" \", words)\n",
    "    words = re.sub(r\"\\^\", \" ^ \", words)\n",
    "    words = re.sub(r\"\\+\", \" + \", words)\n",
    "    words = re.sub(r\"\\-\", \" - \", words)\n",
    "    words = re.sub(r\"\\=\", \" = \", words)\n",
    "    words = re.sub(r\"'\", \" \", words)\n",
    "    words = re.sub(r\"(\\d+)(k)\", r\"\\g<1>000\", words)\n",
    "    words = re.sub(r\":\", \" : \", words)\n",
    "    words = re.sub(r\" e g \", \" eg \", words)\n",
    "    words = re.sub(r\" b g \", \" bg \", words)\n",
    "    words = re.sub(r\" u s \", \" american \", words)\n",
    "    words = re.sub(r\"\\0s\", \"0\", words)\n",
    "    words = re.sub(r\" 9 11 \", \"911\", words)\n",
    "    words = re.sub(r\"e - mail\", \"email\", words)\n",
    "    words = re.sub(r\"j k\", \"jk\", words)\n",
    "    words = re.sub(r\"\\s{2,}\", \" \", words)\n",
    "    \n",
    "    words = words.split()\n",
    "    \n",
    "    if remove_stopwords: # remove stopword\n",
    "        stops = set(stopwords.words(\"english\"))\n",
    "        words = [w for w in words if not w in stops]\n",
    "        \n",
    "    if stemming==True: # stemming\n",
    "#         stemmer = PorterStemmer()\n",
    "        stemmer = PorterStemmer() \n",
    "        words = [stemmer.stem(w) for w in words]\n",
    "        \n",
    "    if split_text==True:  # split text\n",
    "        return (words)\n",
    "    \n",
    "    return( \" \".join(words))"
   ]
  },
  {
   "cell_type": "code",
   "execution_count": 7,
   "metadata": {},
   "outputs": [
    {
     "name": "stderr",
     "output_type": "stream",
     "text": [
      "/usr/local/lib/python3.7/site-packages/bs4/__init__.py:335: UserWarning: \"https://www.consumeraffairs.com/news/mypillow-gets-a-rude-awakening-as-the-better-business-bureau-gives-it-an-f-010517.html\" looks like a URL. Beautiful Soup is not an HTTP client. You should probably use an HTTP client like requests to get the document behind the URL, and feed that document to Beautiful Soup.\n",
      "  ' that document to Beautiful Soup.' % decoded_markup\n",
      "/usr/local/lib/python3.7/site-packages/bs4/__init__.py:272: UserWarning: \"b'..'\" looks like a filename, not markup. You should probably open this file and pass the filehandle into Beautiful Soup.\n",
      "  ' Beautiful Soup.' % markup)\n"
     ]
    },
    {
     "name": "stdout",
     "output_type": "stream",
     "text": [
      "Show a cleaned review in the training set : \n",
      " today went massage bc slept wrong neck killing told steve therapist go every week massage reminded many times massage neck tried overly pushy many times follow skeletal outline lot pressure rolled scapula bones deep tissue think rather important stay tissue otherwise bit painful like pretty intense massage usually complain done incorrectly frustrating towards end reminded neck tried tried explain show exactly spot even massage acted like annoying heavy sighs even seriously came bc neck hurt leave neck still hurting unacceptable\n",
      "\n",
      "Show a cleaned review in the testing set : \n",
      " journey electric small project us extremely happy work cost electrician polite knowledgeable efficient definitely use\n"
     ]
    }
   ],
   "source": [
    "# Preprocess text data in training set and validation set\n",
    "X_train_cleaned = []\n",
    "X_test_cleaned = []\n",
    "\n",
    "for d in X_train:\n",
    "    X_train_cleaned.append(cleanText(d))\n",
    "print('Show a cleaned review in the training set : \\n',  X_train_cleaned[10])\n",
    "    \n",
    "for d in X_test:\n",
    "    X_test_cleaned.append(cleanText(d))\n",
    "print('\\nShow a cleaned review in the testing set : \\n', X_test_cleaned[10])"
   ]
  },
  {
   "cell_type": "markdown",
   "metadata": {},
   "source": [
    "## Parsing review into list of sentences for Word2vec"
   ]
  },
  {
   "cell_type": "code",
   "execution_count": 8,
   "metadata": {},
   "outputs": [
    {
     "name": "stdout",
     "output_type": "stream",
     "text": [
      "79988 parsed sentence in the training set\n",
      "\n",
      "Show a parsed sentence in the training set : \n",
      " ['today', 'went', 'massage', 'bc', 'slept', 'wrong', 'neck', 'killing', 'told', 'steve', 'therapist', 'go', 'every', 'week', 'massage', 'reminded', 'many', 'times', 'massage', 'neck', 'tried', 'overly', 'pushy', 'many', 'times', 'follow', 'skeletal', 'outline', 'lot', 'pressure', 'rolled', 'scapula', 'bones', 'deep', 'tissue', 'think', 'rather', 'important', 'stay', 'tissue', 'otherwise', 'bit', 'painful', 'like', 'pretty', 'intense', 'massage', 'usually', 'complain', 'done', 'incorrectly', 'frustrating', 'towards', 'end', 'reminded', 'neck', 'tried', 'tried', 'explain', 'show', 'exactly', 'spot', 'even', 'massage', 'acted', 'like', 'annoying', 'heavy', 'sighs', 'even', 'seriously', 'came', 'bc', 'neck', 'hurt', 'leave', 'neck', 'still', 'hurting', 'unacceptable']\n"
     ]
    }
   ],
   "source": [
    "# Split review text into parsed sentences uisng NLTK's punkt tokenizer\n",
    "# nltk.download()\n",
    "tokenizer = nltk.data.load('tokenizers/punkt/english.pickle')\n",
    "\n",
    "def parseSent(review, tokenizer, remove_stopwords=False):\n",
    "    '''\n",
    "    Parse text into sentences\n",
    "    '''\n",
    "    raw_sentences = tokenizer.tokenize(review.strip())\n",
    "    sentences = []\n",
    "    for raw_sentence in raw_sentences:\n",
    "        if len(raw_sentence) > 0:\n",
    "            sentences.append(cleanText(raw_sentence, remove_stopwords, split_text=True))\n",
    "    return sentences\n",
    "\n",
    "\n",
    "# Parse each review in the training set into sentences\n",
    "sentences = []\n",
    "for review in X_train_cleaned:\n",
    "    sentences += parseSent(review, tokenizer)\n",
    "    \n",
    "print('%d parsed sentence in the training set\\n'  %len(sentences))\n",
    "print('Show a parsed sentence in the training set : \\n',  sentences[10])"
   ]
  },
  {
   "cell_type": "markdown",
   "metadata": {},
   "source": [
    "## Create vocabulary list using Word2vec model"
   ]
  },
  {
   "cell_type": "code",
   "execution_count": 9,
   "metadata": {},
   "outputs": [
    {
     "name": "stderr",
     "output_type": "stream",
     "text": [
      "2020-04-25 22:24:48,112 : INFO : collecting all words and their counts\n",
      "2020-04-25 22:24:48,112 : INFO : PROGRESS: at sentence #0, processed 0 words, keeping 0 word types\n",
      "2020-04-25 22:24:48,242 : INFO : PROGRESS: at sentence #10000, processed 573641 words, keeping 26402 word types\n"
     ]
    },
    {
     "name": "stdout",
     "output_type": "stream",
     "text": [
      "Training Word2Vec model ...\n",
      "\n"
     ]
    },
    {
     "name": "stderr",
     "output_type": "stream",
     "text": [
      "2020-04-25 22:24:48,368 : INFO : PROGRESS: at sentence #20000, processed 1145277 words, keeping 36042 word types\n",
      "2020-04-25 22:24:48,490 : INFO : PROGRESS: at sentence #30000, processed 1714543 words, keeping 43080 word types\n",
      "2020-04-25 22:24:48,598 : INFO : PROGRESS: at sentence #40000, processed 2281791 words, keeping 48832 word types\n",
      "2020-04-25 22:24:48,709 : INFO : PROGRESS: at sentence #50000, processed 2854617 words, keeping 53959 word types\n",
      "2020-04-25 22:24:48,818 : INFO : PROGRESS: at sentence #60000, processed 3430779 words, keeping 58490 word types\n",
      "2020-04-25 22:24:48,940 : INFO : PROGRESS: at sentence #70000, processed 4009027 words, keeping 62669 word types\n",
      "2020-04-25 22:24:49,068 : INFO : collected 66581 word types from a corpus of 4583691 raw words and 79988 sentences\n",
      "2020-04-25 22:24:49,069 : INFO : Loading a fresh vocabulary\n",
      "2020-04-25 22:24:49,282 : INFO : effective_min_count=10 retains 16137 unique words (24% of original 66581, drops 50444)\n",
      "2020-04-25 22:24:49,283 : INFO : effective_min_count=10 leaves 4468319 word corpus (97% of original 4583691, drops 115372)\n",
      "2020-04-25 22:24:49,339 : INFO : deleting the raw counts dictionary of 66581 items\n",
      "2020-04-25 22:24:49,341 : INFO : sample=0.001 downsamples 31 most-common words\n",
      "2020-04-25 22:24:49,341 : INFO : downsampling leaves estimated 4251371 word corpus (95.1% of prior 4468319)\n",
      "2020-04-25 22:24:49,389 : INFO : estimated required memory for 16137 words and 300 dimensions: 46797300 bytes\n",
      "2020-04-25 22:24:49,390 : INFO : resetting layer weights\n",
      "2020-04-25 22:24:49,601 : INFO : training model with 4 workers on 16137 vocabulary and 300 features, using sg=0 hs=0 sample=0.001 negative=5 window=10\n",
      "2020-04-25 22:24:50,611 : INFO : EPOCH 1 - PROGRESS: at 25.20% examples, 1065328 words/s, in_qsize 7, out_qsize 0\n",
      "2020-04-25 22:24:51,619 : INFO : EPOCH 1 - PROGRESS: at 52.94% examples, 1114241 words/s, in_qsize 7, out_qsize 0\n",
      "2020-04-25 22:24:52,622 : INFO : EPOCH 1 - PROGRESS: at 73.17% examples, 1028189 words/s, in_qsize 7, out_qsize 0\n",
      "2020-04-25 22:24:53,629 : INFO : EPOCH 1 - PROGRESS: at 97.89% examples, 1034572 words/s, in_qsize 7, out_qsize 0\n",
      "2020-04-25 22:24:53,683 : INFO : worker thread finished; awaiting finish of 3 more threads\n",
      "2020-04-25 22:24:53,694 : INFO : worker thread finished; awaiting finish of 2 more threads\n",
      "2020-04-25 22:24:53,705 : INFO : worker thread finished; awaiting finish of 1 more threads\n",
      "2020-04-25 22:24:53,707 : INFO : worker thread finished; awaiting finish of 0 more threads\n",
      "2020-04-25 22:24:53,708 : INFO : EPOCH - 1 : training on 4583691 raw words (4250667 effective words) took 4.1s, 1036645 effective words/s\n",
      "2020-04-25 22:24:54,731 : INFO : EPOCH 2 - PROGRESS: at 25.41% examples, 1061207 words/s, in_qsize 7, out_qsize 0\n",
      "2020-04-25 22:24:55,732 : INFO : EPOCH 2 - PROGRESS: at 50.98% examples, 1069532 words/s, in_qsize 7, out_qsize 0\n",
      "2020-04-25 22:24:56,737 : INFO : EPOCH 2 - PROGRESS: at 72.95% examples, 1022561 words/s, in_qsize 7, out_qsize 0\n",
      "2020-04-25 22:24:57,738 : INFO : EPOCH 2 - PROGRESS: at 98.74% examples, 1043166 words/s, in_qsize 6, out_qsize 0\n",
      "2020-04-25 22:24:57,759 : INFO : worker thread finished; awaiting finish of 3 more threads\n",
      "2020-04-25 22:24:57,764 : INFO : worker thread finished; awaiting finish of 2 more threads\n",
      "2020-04-25 22:24:57,769 : INFO : worker thread finished; awaiting finish of 1 more threads\n",
      "2020-04-25 22:24:57,769 : INFO : worker thread finished; awaiting finish of 0 more threads\n",
      "2020-04-25 22:24:57,770 : INFO : EPOCH - 2 : training on 4583691 raw words (4251294 effective words) took 4.1s, 1048197 effective words/s\n",
      "2020-04-25 22:24:58,776 : INFO : EPOCH 3 - PROGRESS: at 25.84% examples, 1096900 words/s, in_qsize 8, out_qsize 0\n",
      "2020-04-25 22:24:59,789 : INFO : EPOCH 3 - PROGRESS: at 52.05% examples, 1094774 words/s, in_qsize 7, out_qsize 0\n",
      "2020-04-25 22:25:00,795 : INFO : EPOCH 3 - PROGRESS: at 73.96% examples, 1039003 words/s, in_qsize 7, out_qsize 0\n",
      "2020-04-25 22:25:01,802 : INFO : EPOCH 3 - PROGRESS: at 93.85% examples, 989849 words/s, in_qsize 8, out_qsize 0\n",
      "2020-04-25 22:25:02,040 : INFO : worker thread finished; awaiting finish of 3 more threads\n",
      "2020-04-25 22:25:02,048 : INFO : worker thread finished; awaiting finish of 2 more threads\n",
      "2020-04-25 22:25:02,054 : INFO : worker thread finished; awaiting finish of 1 more threads\n",
      "2020-04-25 22:25:02,055 : INFO : worker thread finished; awaiting finish of 0 more threads\n",
      "2020-04-25 22:25:02,055 : INFO : EPOCH - 3 : training on 4583691 raw words (4250999 effective words) took 4.3s, 993295 effective words/s\n",
      "2020-04-25 22:25:03,063 : INFO : EPOCH 4 - PROGRESS: at 27.16% examples, 1150368 words/s, in_qsize 7, out_qsize 0\n",
      "2020-04-25 22:25:04,076 : INFO : EPOCH 4 - PROGRESS: at 54.91% examples, 1153552 words/s, in_qsize 7, out_qsize 0\n",
      "2020-04-25 22:25:05,078 : INFO : EPOCH 4 - PROGRESS: at 82.62% examples, 1162092 words/s, in_qsize 7, out_qsize 0\n",
      "2020-04-25 22:25:05,690 : INFO : worker thread finished; awaiting finish of 3 more threads\n",
      "2020-04-25 22:25:05,694 : INFO : worker thread finished; awaiting finish of 2 more threads\n",
      "2020-04-25 22:25:05,699 : INFO : worker thread finished; awaiting finish of 1 more threads\n",
      "2020-04-25 22:25:05,707 : INFO : worker thread finished; awaiting finish of 0 more threads\n",
      "2020-04-25 22:25:05,707 : INFO : EPOCH - 4 : training on 4583691 raw words (4250968 effective words) took 3.6s, 1165903 effective words/s\n",
      "2020-04-25 22:25:06,715 : INFO : EPOCH 5 - PROGRESS: at 27.35% examples, 1159685 words/s, in_qsize 7, out_qsize 0\n",
      "2020-04-25 22:25:07,719 : INFO : EPOCH 5 - PROGRESS: at 55.54% examples, 1172638 words/s, in_qsize 7, out_qsize 0\n",
      "2020-04-25 22:25:08,730 : INFO : EPOCH 5 - PROGRESS: at 83.30% examples, 1171560 words/s, in_qsize 7, out_qsize 0\n",
      "2020-04-25 22:25:09,324 : INFO : worker thread finished; awaiting finish of 3 more threads\n",
      "2020-04-25 22:25:09,328 : INFO : worker thread finished; awaiting finish of 2 more threads\n",
      "2020-04-25 22:25:09,343 : INFO : worker thread finished; awaiting finish of 1 more threads\n",
      "2020-04-25 22:25:09,344 : INFO : worker thread finished; awaiting finish of 0 more threads\n",
      "2020-04-25 22:25:09,344 : INFO : EPOCH - 5 : training on 4583691 raw words (4250943 effective words) took 3.6s, 1170852 effective words/s\n",
      "2020-04-25 22:25:09,345 : INFO : training on a 22918455 raw words (21254871 effective words) took 19.7s, 1076581 effective words/s\n",
      "2020-04-25 22:25:09,345 : INFO : precomputing L2-norms of word weight vectors\n",
      "2020-04-25 22:25:09,362 : INFO : saving Word2Vec object under Model/w2v_model_two, separately None\n",
      "2020-04-25 22:25:09,363 : INFO : not storing attribute vectors_norm\n",
      "2020-04-25 22:25:09,364 : INFO : not storing attribute cum_table\n",
      "2020-04-25 22:25:09,671 : INFO : saved Model/w2v_model_two\n"
     ]
    }
   ],
   "source": [
    "# Fit parsed sentences to Word2Vec model \n",
    "logging.basicConfig(format='%(asctime)s : %(levelname)s : %(message)s',level=logging.INFO)\n",
    "\n",
    "num_features = 300  #embedding dimension                     \n",
    "min_word_count = 10\n",
    "num_workers = 4       \n",
    "context = 10                                                                                          \n",
    "downsampling = 1e-3 \n",
    "\n",
    "print(\"Training Word2Vec model ...\\n\")\n",
    "w2v = Word2Vec(sentences, workers=num_workers, size=num_features, min_count = min_word_count,\\\n",
    "                 window = context, sample = downsampling)\n",
    "w2v.init_sims(replace=True)\n",
    "w2v.save(\"Model/w2v_model_two\") #save trained word2vec model\n"
   ]
  },
  {
   "cell_type": "code",
   "execution_count": 10,
   "metadata": {},
   "outputs": [
    {
     "name": "stdout",
     "output_type": "stream",
     "text": [
      "Number of words in the vocabulary list : 16137 \n",
      "\n",
      "Show first 10 words in the vocalbulary list  vocabulary list: \n",
      " ['food', 'place', 'good', 'service', 'time', 'like', 'get', 'would', 'one', 'great']\n",
      "\n",
      "\n",
      "view similar words based on gensim's model: \n",
      " {'place': ['joint', 'spot', 'restaurant', 'atmosphere', 'places'], 'food': ['meals', 'meal', 'restaurant', 'dishes', 'dinner'], 'pizza': ['pizzas', 'pepperoni', 'crust', 'calzone', 'margherita']}\n"
     ]
    }
   ],
   "source": [
    "print(\"Number of words in the vocabulary list : %d \\n\" %len(w2v.wv.index2word))   \n",
    "print(\"Show first 10 words in the vocalbulary list  vocabulary list: \\n\", w2v.wv.index2word[0:10])\n",
    "\n",
    "print('\\n')\n",
    "# view similar words based on gensim's model\n",
    "similar_words = {search_term: [item[0] for item in w2v.wv.most_similar([search_term], topn=5)]\n",
    "                  for search_term in ['place', 'food', 'pizza']}\n",
    "print(\"view similar words based on gensim's model: \\n\", similar_words)"
   ]
  },
  {
   "cell_type": "code",
   "execution_count": null,
   "metadata": {},
   "outputs": [],
   "source": [
    "w2v.wv['pizza']"
   ]
  },
  {
   "cell_type": "code",
   "execution_count": null,
   "metadata": {},
   "outputs": [],
   "source": [
    "from sklearn.manifold import TSNE\n",
    "\n",
    "words = sum([[k] + v for k, v in similar_words.items()], [])\n",
    "wvs = w2v.wv[words]\n",
    "\n",
    "tsne = TSNE(n_components=2, random_state=0, n_iter=10000, perplexity=2)\n",
    "np.set_printoptions(suppress=True)\n",
    "T = tsne.fit_transform(wvs)\n",
    "labels = words\n",
    "\n",
    "plt.figure(figsize=(14, 8))\n",
    "plt.scatter(T[:, 0], T[:, 1], c='orange', edgecolors='r')\n",
    "for label, x, y in zip(labels, T[:, 0], T[:, 1]):\n",
    "    plt.annotate(label, xy=(x+1, y+1), xytext=(0, 0), textcoords='offset points')"
   ]
  },
  {
   "cell_type": "markdown",
   "metadata": {},
   "source": [
    "### Averaging feature vector"
   ]
  },
  {
   "cell_type": "code",
   "execution_count": 11,
   "metadata": {},
   "outputs": [],
   "source": [
    "# Transfrom the training data into feature vectors\n",
    "\n",
    "def makeFeatureVec(review, model, num_features):\n",
    "    '''\n",
    "    Transform a review to a feature vector by averaging feature vectors of words \n",
    "    appeared in that review and in the volcabulary list created\n",
    "    '''\n",
    "    featureVec = np.zeros((num_features,),dtype=\"float32\")\n",
    "    nwords = 0.\n",
    "    index2word_set = set(model.wv.index2word) #index2word is the volcabulary list of the Word2Vec model\n",
    "    isZeroVec = True\n",
    "    for word in review:\n",
    "        if word in index2word_set: \n",
    "            nwords = nwords + 1.\n",
    "            featureVec = np.add(featureVec, model[word])\n",
    "            isZeroVec = False\n",
    "    if isZeroVec == False:\n",
    "        featureVec = np.divide(featureVec, nwords)\n",
    "    return featureVec\n",
    "\n",
    "\n",
    "def getAvgFeatureVecs(reviews, model, num_features):\n",
    "    '''\n",
    "    Transform all reviews to feature vectors using makeFeatureVec()\n",
    "    '''\n",
    "    counter = 0\n",
    "    reviewFeatureVecs = np.zeros((len(reviews),num_features),dtype=\"float32\")\n",
    "    for review in reviews:\n",
    "        reviewFeatureVecs[counter] = makeFeatureVec(review, model,num_features)\n",
    "        counter = counter + 1\n",
    "    return reviewFeatureVecs"
   ]
  },
  {
   "cell_type": "code",
   "execution_count": 12,
   "metadata": {},
   "outputs": [
    {
     "name": "stderr",
     "output_type": "stream",
     "text": [
      "/usr/local/lib/python3.7/site-packages/bs4/__init__.py:335: UserWarning: \"https://www.consumeraffairs.com/news/mypillow-gets-a-rude-awakening-as-the-better-business-bureau-gives-it-an-f-010517.html\" looks like a URL. Beautiful Soup is not an HTTP client. You should probably use an HTTP client like requests to get the document behind the URL, and feed that document to Beautiful Soup.\n",
      "  ' that document to Beautiful Soup.' % decoded_markup\n",
      "/usr/local/lib/python3.7/site-packages/bs4/__init__.py:272: UserWarning: \"b'..'\" looks like a filename, not markup. You should probably open this file and pass the filehandle into Beautiful Soup.\n",
      "  ' Beautiful Soup.' % markup)\n",
      "/Users/baybay/Library/Python/3.7/lib/python/site-packages/ipykernel_launcher.py:15: DeprecationWarning: Call to deprecated `__getitem__` (Method will be removed in 4.0.0, use self.wv.__getitem__() instead).\n",
      "  from ipykernel import kernelapp as app\n"
     ]
    },
    {
     "name": "stdout",
     "output_type": "stream",
     "text": [
      "Training set : 80000 feature vectors with 300 dimensions\n",
      "Validation set : 20000 feature vectors with 300 dimensions\n"
     ]
    }
   ],
   "source": [
    "# Get feature vectors for training set\n",
    "X_train_cleaned = []\n",
    "for review in X_train:\n",
    "    X_train_cleaned.append(cleanText(review, remove_stopwords=True, split_text=True))\n",
    "trainVector = getAvgFeatureVecs(X_train_cleaned, w2v, num_features)\n",
    "print(\"Training set : %d feature vectors with %d dimensions\" %trainVector.shape)\n",
    "\n",
    "\n",
    "# Get feature vectors for validation set\n",
    "X_test_cleaned = []\n",
    "for review in X_test:\n",
    "    X_test_cleaned.append(cleanText(review, remove_stopwords=True, split_text=True))\n",
    "testVector = getAvgFeatureVecs(X_test_cleaned, w2v, num_features)\n",
    "print(\"Validation set : %d feature vectors with %d dimensions\" %testVector.shape)"
   ]
  },
  {
   "cell_type": "markdown",
   "metadata": {},
   "source": [
    "## LSTM model with Word2vec Word Embedding"
   ]
  },
  {
   "cell_type": "code",
   "execution_count": 13,
   "metadata": {},
   "outputs": [
    {
     "name": "stderr",
     "output_type": "stream",
     "text": [
      "2020-04-25 22:27:52,735 : INFO : loading Word2Vec object from Model/w2v_model_two\n",
      "2020-04-25 22:27:53,046 : INFO : loading wv recursively from Model/w2v_model_two.wv.* with mmap=None\n",
      "2020-04-25 22:27:53,047 : INFO : setting ignored attribute vectors_norm to None\n",
      "2020-04-25 22:27:53,048 : INFO : loading vocabulary recursively from Model/w2v_model_two.vocabulary.* with mmap=None\n",
      "2020-04-25 22:27:53,048 : INFO : loading trainables recursively from Model/w2v_model_two.trainables.* with mmap=None\n",
      "2020-04-25 22:27:53,049 : INFO : setting ignored attribute cum_table to None\n",
      "2020-04-25 22:27:53,049 : INFO : loaded Model/w2v_model_two\n",
      "/Users/baybay/Library/Python/3.7/lib/python/site-packages/ipykernel_launcher.py:5: DeprecationWarning: Call to deprecated `syn0` (Attribute will be removed in 4.0.0, use self.vectors instead).\n",
      "  \"\"\"\n"
     ]
    }
   ],
   "source": [
    "# Load trained Word2Vec model\n",
    "w2v = Word2Vec.load(\"Model/w2v_model_two\")\n",
    "\n",
    "# Get Word2Vec embedding matrix\n",
    "embedding_matrix = w2v.wv.syn0  # embedding matrix, type = numpy.ndarray "
   ]
  },
  {
   "cell_type": "code",
   "execution_count": null,
   "metadata": {
    "scrolled": true
   },
   "outputs": [],
   "source": [
    "print(\"Shape of embedding matrix : \", embedding_matrix.shape) #(30456, 300) = (volcabulary size, embedding dimension)\n",
    "print(w2v.wv.syn0[1]) #feature vector of the first word in the volcabulary list"
   ]
  },
  {
   "cell_type": "code",
   "execution_count": null,
   "metadata": {},
   "outputs": [],
   "source": [
    "print(w2v.wv.syn0[2])"
   ]
  },
  {
   "cell_type": "code",
   "execution_count": 14,
   "metadata": {},
   "outputs": [
    {
     "name": "stdout",
     "output_type": "stream",
     "text": [
      "X_train shape: (80000, 631)\n",
      "X_test shape: (20000, 631)\n"
     ]
    }
   ],
   "source": [
    "top_words = embedding_matrix.shape[0] #30456\n",
    "maxlen = 631\n",
    "batch_size = [32, 64, 128]\n",
    "nb_classes = 2\n",
    "epochs = 5\n",
    "\n",
    "\n",
    "# Vectorize X_train and X_test to 2D tensor\n",
    "tokenizer = Tokenizer(num_words=top_words) #only consider top 20000 words in the corpse\n",
    "tokenizer.fit_on_texts(X_train)\n",
    "# tokenizer.word_index #access word-to-index dictionary of trained tokenizer\n",
    "\n",
    "sequences_train = tokenizer.texts_to_sequences(X_train)\n",
    "sequences_test = tokenizer.texts_to_sequences(X_test)\n",
    "\n",
    "X_train_seq = sequence.pad_sequences(sequences_train, maxlen=maxlen)\n",
    "X_test_seq = sequence.pad_sequences(sequences_test, maxlen=maxlen)\n",
    "\n",
    "\n",
    "# one-hot encoding of y_train and y_test\n",
    "# y_train_seq = np_utils.to_categorical(y_train, nb_classes)\n",
    "# y_test_seq = np_utils.to_categorical(y_test, nb_classes)\n",
    "\n",
    "print('X_train shape:', X_train_seq.shape) #(27799, 100)\n",
    "print('X_test shape:', X_test_seq.shape) #(3089, 100)\n",
    "# print('y_train shape:', y_train_seq.shape) #(27799, 2)\n",
    "# print('y_test shape:', y_test_seq.shape) #(3089, 2)"
   ]
  },
  {
   "cell_type": "code",
   "execution_count": null,
   "metadata": {},
   "outputs": [],
   "source": [
    "X_train_seq[1000]"
   ]
  },
  {
   "cell_type": "code",
   "execution_count": 15,
   "metadata": {},
   "outputs": [],
   "source": [
    "from keras.layers import Flatten"
   ]
  },
  {
   "cell_type": "code",
   "execution_count": 16,
   "metadata": {
    "scrolled": false
   },
   "outputs": [
    {
     "name": "stdout",
     "output_type": "stream",
     "text": [
      "WARNING:tensorflow:From /usr/local/lib/python3.7/site-packages/tensorflow/python/ops/resource_variable_ops.py:435: colocate_with (from tensorflow.python.framework.ops) is deprecated and will be removed in a future version.\n",
      "Instructions for updating:\n",
      "Colocations handled automatically by placer.\n"
     ]
    },
    {
     "name": "stderr",
     "output_type": "stream",
     "text": [
      "2020-04-25 22:28:07,534 : WARNING : From /usr/local/lib/python3.7/site-packages/tensorflow/python/ops/resource_variable_ops.py:435: colocate_with (from tensorflow.python.framework.ops) is deprecated and will be removed in a future version.\n",
      "Instructions for updating:\n",
      "Colocations handled automatically by placer.\n"
     ]
    },
    {
     "name": "stdout",
     "output_type": "stream",
     "text": [
      "Model: \"sequential_1\"\n",
      "_________________________________________________________________\n",
      "Layer (type)                 Output Shape              Param #   \n",
      "=================================================================\n",
      "embedding_1 (Embedding)      (None, 631, 300)          4841100   \n",
      "_________________________________________________________________\n",
      "flatten_1 (Flatten)          (None, 189300)            0         \n",
      "_________________________________________________________________\n",
      "dense_1 (Dense)              (None, 2)                 378602    \n",
      "=================================================================\n",
      "Total params: 5,219,702\n",
      "Trainable params: 378,602\n",
      "Non-trainable params: 4,841,100\n",
      "_________________________________________________________________\n"
     ]
    }
   ],
   "source": [
    "# Construct Word2Vec embedding layer\n",
    "\n",
    "vocab_size = embedding_matrix.shape[0]\n",
    "input_dim = embedding_matrix.shape[1]\n",
    "embedding_layer = Embedding(embedding_matrix.shape[0], #4016\n",
    "                            embedding_matrix.shape[1], #300\n",
    "                            weights=[embedding_matrix],\n",
    "                            input_length=maxlen,\n",
    "                            trainable=False)\n",
    "\n",
    "\n",
    "# define the model\n",
    "model = Sequential()\n",
    "model.add(embedding_layer)\n",
    "model.add(Flatten())\n",
    "model.add(Dense(nb_classes, activation='sigmoid'))\n",
    "model.compile(optimizer='adam', loss='binary_crossentropy', metrics=['accuracy'])\n",
    "\n",
    "model2 = Sequential()\n",
    "model2.add(embedding_layer)\n",
    "model2.add(Flatten())\n",
    "model2.add(Dense(nb_classes, activation='sigmoid'))\n",
    "model2.compile(optimizer='adam', loss='binary_crossentropy', metrics=['accuracy'])\n",
    "\n",
    "model3 = Sequential()\n",
    "model3.add(embedding_layer)\n",
    "model3.add(Flatten())\n",
    "model3.add(Dense(nb_classes, activation='sigmoid'))\n",
    "model3.compile(optimizer='adam', loss='binary_crossentropy', metrics=['accuracy'])\n",
    "\n",
    "model.summary()"
   ]
  },
  {
   "cell_type": "code",
   "execution_count": 17,
   "metadata": {
    "scrolled": false
   },
   "outputs": [
    {
     "name": "stdout",
     "output_type": "stream",
     "text": [
      "WARNING:tensorflow:From /usr/local/lib/python3.7/site-packages/tensorflow/python/ops/math_ops.py:3066: to_int32 (from tensorflow.python.ops.math_ops) is deprecated and will be removed in a future version.\n",
      "Instructions for updating:\n",
      "Use tf.cast instead.\n"
     ]
    },
    {
     "name": "stderr",
     "output_type": "stream",
     "text": [
      "2020-04-25 22:28:07,890 : WARNING : From /usr/local/lib/python3.7/site-packages/tensorflow/python/ops/math_ops.py:3066: to_int32 (from tensorflow.python.ops.math_ops) is deprecated and will be removed in a future version.\n",
      "Instructions for updating:\n",
      "Use tf.cast instead.\n"
     ]
    },
    {
     "name": "stdout",
     "output_type": "stream",
     "text": [
      "Train on 72000 samples, validate on 8000 samples\n",
      "Epoch 1/5\n",
      "72000/72000 [==============================] - 37s 510us/step - loss: 0.6508 - accuracy: 0.6535 - val_loss: 0.5771 - val_accuracy: 0.6963\n",
      "Epoch 2/5\n",
      "72000/72000 [==============================] - 36s 494us/step - loss: 0.5172 - accuracy: 0.7427 - val_loss: 0.5039 - val_accuracy: 0.7526\n",
      "Epoch 3/5\n",
      "72000/72000 [==============================] - 36s 503us/step - loss: 0.4725 - accuracy: 0.7721 - val_loss: 0.5338 - val_accuracy: 0.7376\n",
      "Epoch 4/5\n",
      "72000/72000 [==============================] - 36s 505us/step - loss: 0.4375 - accuracy: 0.7939 - val_loss: 0.5086 - val_accuracy: 0.7574\n",
      "Epoch 5/5\n",
      "72000/72000 [==============================] - 35s 489us/step - loss: 0.4273 - accuracy: 0.8032 - val_loss: 0.4960 - val_accuracy: 0.7673\n",
      "Train on 72000 samples, validate on 8000 samples\n",
      "Epoch 1/5\n",
      "72000/72000 [==============================] - 32s 449us/step - loss: 0.6389 - accuracy: 0.6520 - val_loss: 0.5849 - val_accuracy: 0.6840\n",
      "Epoch 2/5\n",
      "72000/72000 [==============================] - 32s 441us/step - loss: 0.5144 - accuracy: 0.7433 - val_loss: 0.5318 - val_accuracy: 0.7234\n",
      "Epoch 3/5\n",
      "72000/72000 [==============================] - 32s 450us/step - loss: 0.4707 - accuracy: 0.7706 - val_loss: 0.5140 - val_accuracy: 0.7489\n",
      "Epoch 4/5\n",
      "72000/72000 [==============================] - 33s 455us/step - loss: 0.4333 - accuracy: 0.7958 - val_loss: 0.4989 - val_accuracy: 0.7542\n",
      "Epoch 5/5\n",
      "72000/72000 [==============================] - 33s 460us/step - loss: 0.4176 - accuracy: 0.8033 - val_loss: 0.4926 - val_accuracy: 0.7605\n",
      "Train on 72000 samples, validate on 8000 samples\n",
      "Epoch 1/5\n",
      "72000/72000 [==============================] - 32s 444us/step - loss: 0.6340 - accuracy: 0.6514 - val_loss: 0.7279 - val_accuracy: 0.5936\n",
      "Epoch 2/5\n",
      "72000/72000 [==============================] - 32s 444us/step - loss: 0.5209 - accuracy: 0.7403 - val_loss: 0.5528 - val_accuracy: 0.7039\n",
      "Epoch 3/5\n",
      "72000/72000 [==============================] - 32s 448us/step - loss: 0.4886 - accuracy: 0.7620 - val_loss: 0.5175 - val_accuracy: 0.7440\n",
      "Epoch 4/5\n",
      "72000/72000 [==============================] - 32s 444us/step - loss: 0.4519 - accuracy: 0.7876 - val_loss: 0.4967 - val_accuracy: 0.7605\n",
      "Epoch 5/5\n",
      "72000/72000 [==============================] - 32s 442us/step - loss: 0.4229 - accuracy: 0.8069 - val_loss: 0.4953 - val_accuracy: 0.7540\n",
      "20000/20000 [==============================] - 4s 177us/step\n",
      "20000/20000 [==============================] - 4s 176us/step\n",
      "20000/20000 [==============================] - 3s 174us/step\n",
      "\n",
      "\n",
      "Test loss : 0.5125\n",
      "Test accuracy : 0.7616\n",
      "\n",
      "\n",
      "Test loss : 0.5071\n",
      "Test accuracy : 0.7562\n",
      "\n",
      "\n",
      "Test loss : 0.5094\n",
      "Test accuracy : 0.7471\n"
     ]
    }
   ],
   "source": [
    "track = model.fit(X_train_seq, y_train, validation_split=0.1, batch_size=batch_size[0], epochs=epochs, shuffle=True, verbose=1)\n",
    "track2 = model2.fit(X_train_seq, y_train, validation_split=0.1, batch_size=batch_size[1], epochs=epochs, shuffle=True, verbose=1)\n",
    "track3 = model3.fit(X_train_seq, y_train, validation_split=0.1, batch_size=batch_size[2], epochs=epochs, shuffle=True, verbose=1)\n",
    "\n",
    "# Model evaluation\n",
    "score = model.evaluate(X_test_seq, y_test, batch_size=batch_size[0], verbose=1)\n",
    "score2 = model2.evaluate(X_test_seq, y_test, batch_size=batch_size[1], verbose=1)\n",
    "score3 = model3.evaluate(X_test_seq, y_test, batch_size=batch_size[2], verbose=1)\n",
    "\n",
    "print(\"\\n\")\n",
    "print('Test loss : {:.4f}'.format(score[0]))\n",
    "print('Test accuracy : {:.4f}'.format(score[1]))\n",
    "print(\"\\n\")\n",
    "print('Test loss : {:.4f}'.format(score2[0]))\n",
    "print('Test accuracy : {:.4f}'.format(score2[1]))\n",
    "print(\"\\n\")\n",
    "print('Test loss : {:.4f}'.format(score3[0]))\n",
    "print('Test accuracy : {:.4f}'.format(score3[1]))"
   ]
  },
  {
   "cell_type": "code",
   "execution_count": 18,
   "metadata": {},
   "outputs": [
    {
     "name": "stdout",
     "output_type": "stream",
     "text": [
      "20000/20000 [==============================] - 3s 167us/step\n",
      "20000/20000 [==============================] - 3s 171us/step\n",
      "20000/20000 [==============================] - 3s 169us/step\n",
      "20000/20000 [==============================] - 3s 169us/step\n",
      "20000/20000 [==============================] - 3s 175us/step\n",
      "20000/20000 [==============================] - 3s 169us/step\n"
     ]
    }
   ],
   "source": [
    "pred = model.predict([X_test_seq], batch_size=batch_size[0], verbose=1)\n",
    "pred_classes = model.predict_classes([X_test_seq], batch_size = batch_size[0], verbose=1)\n",
    "\n",
    "pred2 = model2.predict([X_test_seq], batch_size=batch_size[1], verbose=1)\n",
    "pred_classes2 = model2.predict_classes([X_test_seq], batch_size = batch_size[1], verbose=1)\n",
    "\n",
    "pred3 = model3.predict([X_test_seq], batch_size=batch_size[2], verbose=1)\n",
    "pred_classes3 = model3.predict_classes([X_test_seq], batch_size = batch_size[2], verbose=1)\n"
   ]
  },
  {
   "cell_type": "code",
   "execution_count": 19,
   "metadata": {
    "scrolled": false
   },
   "outputs": [
    {
     "name": "stdout",
     "output_type": "stream",
     "text": [
      "Model 1\n"
     ]
    },
    {
     "data": {
      "image/png": "[encoded data removed]",
      "text/plain": [
       "<Figure size 432x288 with 1 Axes>"
      ]
     },
     "metadata": {
      "needs_background": "light"
     },
     "output_type": "display_data"
    },
    {
     "data": {
      "image/png": "[encoded data removed]",
      "text/plain": [
       "<Figure size 432x288 with 1 Axes>"
      ]
     },
     "metadata": {
      "needs_background": "light"
     },
     "output_type": "display_data"
    },
    {
     "name": "stdout",
     "output_type": "stream",
     "text": [
      "Model 2\n"
     ]
    },
    {
     "data": {
      "image/png": "[encoded data removed]",
      "text/plain": [
       "<Figure size 432x288 with 1 Axes>"
      ]
     },
     "metadata": {
      "needs_background": "light"
     },
     "output_type": "display_data"
    },
    {
     "data": {
      "image/png": "[encoded data removed]",
      "text/plain": [
       "<Figure size 432x288 with 1 Axes>"
      ]
     },
     "metadata": {
      "needs_background": "light"
     },
     "output_type": "display_data"
    },
    {
     "name": "stdout",
     "output_type": "stream",
     "text": [
      "Model 3\n"
     ]
    },
    {
     "data": {
      "image/png": "[encoded data removed]",
      "text/plain": [
       "<Figure size 432x288 with 1 Axes>"
      ]
     },
     "metadata": {
      "needs_background": "light"
     },
     "output_type": "display_data"
    },
    {
     "data": {
      "image/png": "[encoded data removed]",
      "text/plain": [
       "<Figure size 432x288 with 1 Axes>"
      ]
     },
     "metadata": {
      "needs_background": "light"
     },
     "output_type": "display_data"
    }
   ],
   "source": [
    "import matplotlib.pyplot as plt\n",
    "\n",
    "\n",
    "print(\"Model 1\")\n",
    "plt.plot(track.history['accuracy'])\n",
    "plt.plot(track.history['val_accuracy'])\n",
    "\n",
    "plt.title('Model accuracy')\n",
    "plt.ylabel('accuracy')\n",
    "plt.xlabel('epoch')\n",
    "plt.legend(['train', 'test'], loc='upper left')\n",
    "plt.show()\n",
    "\n",
    "plt.plot(track.history['loss'])\n",
    "plt.plot(track.history['val_loss'])\n",
    "\n",
    "plt.title('model loss')\n",
    "plt.ylabel('loss')\n",
    "plt.xlabel('epoch')\n",
    "plt.legend(['train', 'test'], loc='upper left')\n",
    "plt.show()\n",
    "\n",
    "print(\"Model 2\")\n",
    "plt.plot(track2.history['accuracy'])\n",
    "plt.plot(track2.history['val_accuracy'])\n",
    "\n",
    "plt.title('Model accuracy')\n",
    "plt.ylabel('accuracy')\n",
    "plt.xlabel('epoch')\n",
    "plt.legend(['train', 'test'], loc='upper left')\n",
    "plt.show()\n",
    "\n",
    "plt.plot(track2.history['loss'])\n",
    "plt.plot(track2.history['val_loss'])\n",
    "\n",
    "plt.title('model loss')\n",
    "plt.ylabel('loss')\n",
    "plt.xlabel('epoch')\n",
    "plt.legend(['train', 'test'], loc='upper left')\n",
    "plt.show()\n",
    "\n",
    "print(\"Model 3\")\n",
    "plt.plot(track3.history['accuracy'])\n",
    "plt.plot(track3.history['val_accuracy'])\n",
    "\n",
    "plt.title('Model accuracy')\n",
    "plt.ylabel('accuracy')\n",
    "plt.xlabel('epoch')\n",
    "plt.legend(['train', 'test'], loc='upper left')\n",
    "plt.show()\n",
    "\n",
    "plt.plot(track3.history['loss'])\n",
    "plt.plot(track3.history['val_loss'])\n",
    "\n",
    "plt.title('model loss')\n",
    "plt.ylabel('loss')\n",
    "plt.xlabel('epoch')\n",
    "plt.legend(['train', 'test'], loc='upper left')\n",
    "plt.show()"
   ]
  },
  {
   "cell_type": "code",
   "execution_count": 20,
   "metadata": {},
   "outputs": [
    {
     "name": "stdout",
     "output_type": "stream",
     "text": [
      "confusion matrix: Model 1 \n",
      " [[6969 3024]\n",
      " [1745 8262]]\n",
      "              precision    recall  f1-score   support\n",
      "\n",
      "           0       0.80      0.70      0.75      9993\n",
      "           1       0.73      0.83      0.78     10007\n",
      "\n",
      "    accuracy                           0.76     20000\n",
      "   macro avg       0.77      0.76      0.76     20000\n",
      "weighted avg       0.77      0.76      0.76     20000\n",
      "\n",
      "\n",
      "\n",
      "confusion matrix: Model 2 \n",
      " [[6796 3197]\n",
      " [1677 8330]]\n",
      "              precision    recall  f1-score   support\n",
      "\n",
      "           0       0.80      0.68      0.74      9993\n",
      "           1       0.72      0.83      0.77     10007\n",
      "\n",
      "    accuracy                           0.76     20000\n",
      "   macro avg       0.76      0.76      0.75     20000\n",
      "weighted avg       0.76      0.76      0.75     20000\n",
      "\n",
      "\n",
      "\n",
      "confusion matrix: Model 3 \n",
      " [[6638 3355]\n",
      " [1697 8310]]\n",
      "              precision    recall  f1-score   support\n",
      "\n",
      "           0       0.80      0.66      0.72      9993\n",
      "           1       0.71      0.83      0.77     10007\n",
      "\n",
      "    accuracy                           0.75     20000\n",
      "   macro avg       0.75      0.75      0.75     20000\n",
      "weighted avg       0.75      0.75      0.75     20000\n",
      "\n",
      "\n",
      "\n"
     ]
    }
   ],
   "source": [
    "df_test = pd.DataFrame({'true': y_test.tolist(), 'pred':pred_classes})\n",
    "df_test['true'] = df_test['true'].apply(lambda x: np.argmax(x))\n",
    "\n",
    "df_test2 = pd.DataFrame({'true': y_test.tolist(), 'pred':pred_classes2})\n",
    "df_test2['true'] = df_test2['true'].apply(lambda x: np.argmax(x))\n",
    "\n",
    "df_test3 = pd.DataFrame({'true': y_test.tolist(), 'pred':pred_classes3})\n",
    "df_test3['true'] = df_test3['true'].apply(lambda x: np.argmax(x))\n",
    "\n",
    "print(\"confusion matrix: Model 1 \\n\",confusion_matrix(df_test.true, df_test.pred))\n",
    "print(classification_report(df_test.true, df_test.pred))\n",
    "print(\"\\n\")\n",
    "\n",
    "print(\"confusion matrix: Model 2 \\n\",confusion_matrix(df_test2.true, df_test2.pred))\n",
    "print(classification_report(df_test2.true, df_test2.pred))\n",
    "print(\"\\n\")\n",
    "\n",
    "print(\"confusion matrix: Model 3 \\n\",confusion_matrix(df_test3.true, df_test3.pred))\n",
    "print(classification_report(df_test3.true, df_test3.pred))\n",
    "print(\"\\n\")"
   ]
  },
  {
   "cell_type": "code",
   "execution_count": 22,
   "metadata": {},
   "outputs": [
    {
     "name": "stdout",
     "output_type": "stream",
     "text": [
      "Save model...\n",
      "Model saved...\n"
     ]
    }
   ],
   "source": [
    "print('Save model...')\n",
    "model.save('Model/LSTMWord2vec_model1_rev.h5')\n",
    "model2.save('Model/LSTMWord2vec_model2_rev.h5')\n",
    "model3.save('Model/LSTMWord2vec_model3_rev.h5')\n",
    "\n",
    "model_json = model.to_json()\n",
    "with open(\"Model/LSTMWord2vec_model1_rev.json\", \"w\") as json_file:\n",
    "    json_file.write(model_json)\n",
    "    \n",
    "model2_json = model2.to_json()\n",
    "with open(\"Model/LSTMWord2vec_model2_rev.json\", \"w\") as json_file:\n",
    "    json_file.write(model2_json)\n",
    "    \n",
    "model3_json = model3.to_json()\n",
    "with open(\"Model/LSTMWord2vec_model3_rev.json\", \"w\") as json_file:\n",
    "    json_file.write(model3_json)\n",
    "    \n",
    "print('Model saved...')"
   ]
  },
  {
   "cell_type": "code",
   "execution_count": 23,
   "metadata": {},
   "outputs": [
    {
     "name": "stdout",
     "output_type": "stream",
     "text": [
      "1/1 [==============================] - 0s 1ms/step\n",
      "[0.65963054 0.34329355]\n",
      "negative\n"
     ]
    }
   ],
   "source": [
    "twt = [\"I still don't know how these people are open for business. The food is disgusting. The delivery charge to go half a mile is $25. Half the time they're not even open. They may be very friendly people who own the business I'm not sure. But it isn't even worth it if you're drunk\"]\n",
    "#vectorizing the tweet by the pre-fitted tokenizer instance\n",
    "twt = tokenizer.texts_to_sequences(twt)\n",
    "#padding the tweet to have exactly the same shape as `embedding_2` input\n",
    "twt = sequence.pad_sequences(twt, maxlen=maxlen, dtype='int32', value=0)\n",
    "# print(twt)\n",
    "sentiment = model.predict(twt,batch_size=1,verbose = 1)[0]\n",
    "print(sentiment)\n",
    "if(np.argmax(sentiment) == 0):\n",
    "    print(\"negative\")\n",
    "elif (np.argmax(sentiment) == 1):\n",
    "    print(\"positive\")"
   ]
  },
  {
   "cell_type": "code",
   "execution_count": 24,
   "metadata": {},
   "outputs": [
    {
     "name": "stdout",
     "output_type": "stream",
     "text": [
      "1/1 [==============================] - 0s 1ms/step\n",
      "[0.06156025 0.9381933 ]\n",
      "positive\n"
     ]
    }
   ],
   "source": [
    "twt = [\"Came for lunch with my sister. We loved our Thai-style mains which were amazing with lots of flavour, very impressive for a vegetarian restaurant.\"]\n",
    "#vectorizing the tweet by the pre-fitted tokenizer instance\n",
    "twt = tokenizer.texts_to_sequences(twt)\n",
    "#padding the tweet to have exactly the same shape as `embedding_2` input\n",
    "twt = sequence.pad_sequences(twt, maxlen=maxlen, dtype='int32', value=0)\n",
    "# print(twt)\n",
    "sentiment = model.predict(twt,batch_size=1,verbose = 1)[0]\n",
    "print(sentiment)\n",
    "if(np.argmax(sentiment) == 0):\n",
    "    print(\"negative\")\n",
    "elif (np.argmax(sentiment) == 1):\n",
    "    print(\"positive\")"
   ]
  },
  {
   "cell_type": "code",
   "execution_count": 25,
   "metadata": {},
   "outputs": [
    {
     "name": "stdout",
     "output_type": "stream",
     "text": [
      "1/1 [==============================] - 0s 1ms/step\n",
      "[0.08796339 0.9116835 ]\n",
      "positive\n"
     ]
    }
   ],
   "source": [
    "twt = [\"Delicious pizza and wings late night delivery amazing service and the right price to pay for 24hr restaurant!!!\"]\n",
    "#vectorizing the tweet by the pre-fitted tokenizer instance\n",
    "twt = tokenizer.texts_to_sequences(twt)\n",
    "#padding the tweet to have exactly the same shape as `embedding_2` input\n",
    "twt = sequence.pad_sequences(twt, maxlen=maxlen, dtype='int32', value=0)\n",
    "# print(twt)\n",
    "sentiment = model.predict(twt,batch_size=1,verbose = 1)[0]\n",
    "print(sentiment)\n",
    "if(np.argmax(sentiment) == 0):\n",
    "    print(\"negative\")\n",
    "elif (np.argmax(sentiment) == 1):\n",
    "    print(\"positive\")"
   ]
  },
  {
   "cell_type": "code",
   "execution_count": 26,
   "metadata": {},
   "outputs": [
    {
     "name": "stdout",
     "output_type": "stream",
     "text": [
      "1/1 [==============================] - 0s 1ms/step\n",
      "[0.7311914 0.2671818]\n",
      "negative\n"
     ]
    }
   ],
   "source": [
    "twt = [\"I was wondering what was taking long... the place was filled with no one and it Almost took an hour for the food... then the food finnaly arrived and guess what we were served... Cold pizza, cold wings and drinks were so watery\"]\n",
    "#vectorizing the tweet by the pre-fitted tokenizer instance\n",
    "twt = tokenizer.texts_to_sequences(twt)\n",
    "#padding the tweet to have exactly the same shape as `embedding_2` input\n",
    "twt = sequence.pad_sequences(twt, maxlen=maxlen, dtype='int32', value=0)\n",
    "# print(twt)\n",
    "sentiment = model.predict(twt,batch_size=1,verbose = 1)[0]\n",
    "print(sentiment)\n",
    "if(np.argmax(sentiment) == 0):\n",
    "    print(\"negative\")\n",
    "elif (np.argmax(sentiment) == 1):\n",
    "    print(\"positive\")"
   ]
  },
  {
   "cell_type": "code",
   "execution_count": 27,
   "metadata": {},
   "outputs": [
    {
     "name": "stdout",
     "output_type": "stream",
     "text": [
      "1/1 [==============================] - 0s 1ms/step\n",
      "[0.03650671 0.9635484 ]\n",
      "positive\n"
     ]
    }
   ],
   "source": [
    "twt = [\"The best in Wisconsin and being the dairy state thats saying a lot The ice cream is a great consistency and there are so many creative flavors like cake batter fudge zanziberry shortcake and sht just got serious Staff tends to be local kids which gives a nice friendly tone to the shop They also sell fudge candy and other treats This is a must stop in Madison for some good ice cream\"]\n",
    "#vectorizing the tweet by the pre-fitted tokenizer instance\n",
    "twt = tokenizer.texts_to_sequences(twt)\n",
    "#padding the tweet to have exactly the same shape as `embedding_2` input\n",
    "twt = sequence.pad_sequences(twt, maxlen=maxlen, dtype='int32', value=0)\n",
    "# print(twt)\n",
    "sentiment = model.predict(twt,batch_size=1,verbose = 1)[0]\n",
    "print(sentiment)\n",
    "if(np.argmax(sentiment) == 0):\n",
    "    print(\"negative\")\n",
    "elif (np.argmax(sentiment) == 1):\n",
    "    print(\"positive\")"
   ]
  },
  {
   "cell_type": "code",
   "execution_count": 28,
   "metadata": {},
   "outputs": [],
   "source": [
    "from keras.utils.vis_utils import plot_model"
   ]
  },
  {
   "cell_type": "code",
   "execution_count": 29,
   "metadata": {
    "scrolled": false
   },
   "outputs": [
    {
     "data": {
      "image/png": "[encoded data removed]",
      "text/plain": [
       "<IPython.core.display.Image object>"
      ]
     },
     "execution_count": 29,
     "metadata": {},
     "output_type": "execute_result"
    }
   ],
   "source": [
    "plot_model(model, to_file='model_word2vec_lstm.png', show_shapes=True, show_layer_names=False)"
   ]
  },
  {
   "cell_type": "code",
   "execution_count": null,
   "metadata": {},
   "outputs": [],
   "source": [
    "# load and evaluate a saved model\n",
    "from numpy import loadtxt\n",
    "from keras.models import load_model\n",
    " \n",
    "# load model\n",
    "model = load_model('Model/LSTMWord2vec_model1.h5')\n",
    "# summarize model.\n",
    "model.summary()"
   ]
  },
  {
   "cell_type": "code",
   "execution_count": null,
   "metadata": {},
   "outputs": [],
   "source": []
  }
 ],
 "metadata": {
  "kernelspec": {
   "display_name": "Python 3",
   "language": "python",
   "name": "python3"
  },
  "language_info": {
   "codemirror_mode": {
    "name": "ipython",
    "version": 3
   },
   "file_extension": ".py",
   "mimetype": "text/x-python",
   "name": "python",
   "nbconvert_exporter": "python",
   "pygments_lexer": "ipython3",
   "version": "3.7.7"
  }
 },
 "nbformat": 4,
 "nbformat_minor": 2
}
